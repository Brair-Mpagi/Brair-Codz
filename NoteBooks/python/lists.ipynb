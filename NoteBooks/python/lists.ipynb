{
 "cells": [
  {
   "cell_type": "markdown",
   "metadata": {},
   "source": [
    "##                                  >> lists"
   ]
  },
  {
   "cell_type": "code",
   "execution_count": 55,
   "metadata": {},
   "outputs": [
    {
     "name": "stdout",
     "output_type": "stream",
     "text": [
      "[1, 2, 3, 4, 5, 6, 7, 8, 9, 0]\n",
      "-------------\n",
      "\n",
      "1\n",
      "-------------\n",
      "\n",
      "0\n",
      "8\n",
      "-------------\n",
      "\n",
      "[2, 3, 4, 5]\n"
     ]
    }
   ],
   "source": [
    "# created list\n",
    "list_1 = [1,2,3,4,5,6,7,8,9,0]\n",
    "\n",
    "# whole list\n",
    "print(list_1)\n",
    "print(\"-------------\\n\")\n",
    "\n",
    "# item at index 0\n",
    "print(list_1[0])\n",
    "print(\"-------------\\n\")\n",
    "\n",
    "# item from last positions\n",
    "print(list_1[-1])\n",
    "print(list_1[-3])\n",
    "print(\"-------------\\n\")\n",
    "\n",
    "\n",
    "# printing list\n",
    "print(list_1[1:5])\n",
    "\n"
   ]
  },
  {
   "cell_type": "code",
   "execution_count": 43,
   "metadata": {},
   "outputs": [
    {
     "name": "stdout",
     "output_type": "stream",
     "text": [
      "1\n",
      "2\n",
      "3\n",
      "4\n",
      "5\n",
      "6\n",
      "7\n",
      "8\n",
      "9\n",
      "0\n"
     ]
    }
   ],
   "source": [
    "# applying loop to print list\n",
    "for i in list_1:\n",
    "    print(i)"
   ]
  },
  {
   "cell_type": "code",
   "execution_count": 44,
   "metadata": {},
   "outputs": [
    {
     "name": "stdout",
     "output_type": "stream",
     "text": [
      "yes\n"
     ]
    }
   ],
   "source": [
    "# check if item is in list \n",
    "if 5 in list_1:\n",
    "    print(\"yes\")\n",
    "else:\n",
    "    print(\"no\")"
   ]
  },
  {
   "cell_type": "code",
   "execution_count": 45,
   "metadata": {},
   "outputs": [
    {
     "name": "stdout",
     "output_type": "stream",
     "text": [
      "10\n"
     ]
    }
   ],
   "source": [
    "# check number of items in list\n",
    "print(len(list_1))"
   ]
  },
  {
   "cell_type": "code",
   "execution_count": 46,
   "metadata": {},
   "outputs": [
    {
     "name": "stdout",
     "output_type": "stream",
     "text": [
      "[1, 2, 3, 4, 5, 6, 7, 8, 9, 0, 10]\n",
      "-------------\n",
      "\n",
      "[0, 1, 2, 3, 4, 5, 6, 7, 8, 9, 0, 10]\n"
     ]
    }
   ],
   "source": [
    "# add item at extreme end\n",
    "list_1.append(10)\n",
    "print(list_1)\n",
    "\n",
    "print(\"-------------\\n\")\n",
    "\n",
    "# add item with index\n",
    "list_1.insert(0,0)\n",
    "print(list_1)"
   ]
  },
  {
   "cell_type": "code",
   "execution_count": 47,
   "metadata": {},
   "outputs": [
    {
     "name": "stdout",
     "output_type": "stream",
     "text": [
      "[0, 1, 2, 3, 4, 5, 6, 7, 8, 9, 0]\n",
      "-------------\n",
      "\n",
      "[0, 1, 2, 3, 4, 5, 6, 7, 9, 0]\n"
     ]
    }
   ],
   "source": [
    "# remove very last item\n",
    "list_1.pop()\n",
    "print(list_1)\n",
    "\n",
    "print(\"-------------\\n\")\n",
    "\n",
    "# remove item with index\n",
    "list_1.remove(8)\n",
    "print(list_1)"
   ]
  },
  {
   "cell_type": "code",
   "execution_count": 52,
   "metadata": {},
   "outputs": [
    {
     "name": "stdout",
     "output_type": "stream",
     "text": [
      "-------------\n",
      "reverse\n",
      "[9, 7, 6, 5, 4, 3, 2, 1, 0, 0]\n",
      "\n",
      "-------------\n",
      "sort\n",
      "[0, 0, 1, 2, 3, 4, 5, 6, 7, 9]\n"
     ]
    }
   ],
   "source": [
    "print(\"-------------\\nreverse\")\n",
    "# reverse list order\n",
    "list_1.reverse()\n",
    "print(list_1)\n",
    "\n",
    "print(\"\\n-------------\\nsort\")\n",
    "# sort list\n",
    "list_1.sort()\n",
    "print(list_1)"
   ]
  },
  {
   "cell_type": "code",
   "execution_count": 54,
   "metadata": {},
   "outputs": [
    {
     "name": "stdout",
     "output_type": "stream",
     "text": [
      "[2, 2, 2, 2, 2, 2, 2, 2, 2, 2, 2, 2, 2, 2, 2, 2, 2, 2, 2, 2]\n"
     ]
    }
   ],
   "source": [
    "# list creation\n",
    "list_2 = [2]*20\n",
    "print(list_2)"
   ]
  },
  {
   "cell_type": "code",
   "execution_count": null,
   "metadata": {},
   "outputs": [],
   "source": []
  }
 ],
 "metadata": {
  "kernelspec": {
   "display_name": "Python 3",
   "language": "python",
   "name": "python3"
  },
  "language_info": {
   "codemirror_mode": {
    "name": "ipython",
    "version": 3
   },
   "file_extension": ".py",
   "mimetype": "text/x-python",
   "name": "python",
   "nbconvert_exporter": "python",
   "pygments_lexer": "ipython3",
   "version": "3.12.3"
  }
 },
 "nbformat": 4,
 "nbformat_minor": 2
}
