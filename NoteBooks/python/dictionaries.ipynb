{
 "cells": [
  {
   "cell_type": "markdown",
   "metadata": {},
   "source": [
    "## Dictionaries"
   ]
  },
  {
   "cell_type": "code",
   "execution_count": 11,
   "metadata": {},
   "outputs": [
    {
     "name": "stdout",
     "output_type": "stream",
     "text": [
      "{'name': 'B-code', 'campus': 'saalarnd'}\n",
      "{'name': 'B-Code', 'campus': 'saalarnd'}\n"
     ]
    }
   ],
   "source": [
    "dict_1 = {\"name\":\"B-code\", \"campus\":\"saalarnd\"}\n",
    "print(dict_1)\n",
    "\n",
    "# or with help of dict function\n",
    "\n",
    "dict_2 = dict(name=\"B-Code\", campus=\"saalarnd\")\n",
    "print(dict_2)"
   ]
  },
  {
   "cell_type": "code",
   "execution_count": 12,
   "metadata": {},
   "outputs": [
    {
     "name": "stdout",
     "output_type": "stream",
     "text": [
      "{'name': 'B-code', 'campus': 'saalarnd', 'age': 22}\n"
     ]
    }
   ],
   "source": [
    "# add items to disctionary\n",
    "dict_1[\"age\"] = 22\n",
    "print(dict_1)"
   ]
  },
  {
   "cell_type": "code",
   "execution_count": 13,
   "metadata": {},
   "outputs": [
    {
     "name": "stdout",
     "output_type": "stream",
     "text": [
      "{'name': 'B-code', 'campus': 'saalarnd'}\n"
     ]
    }
   ],
   "source": [
    "# delete item from list\n",
    "del dict_1[\"age\"]\n",
    "\n",
    "# or\n",
    "dict_1.pop[\"age\"]\n",
    "\n",
    "print(dict_1)"
   ]
  },
  {
   "cell_type": "code",
   "execution_count": 16,
   "metadata": {},
   "outputs": [
    {
     "name": "stdout",
     "output_type": "stream",
     "text": [
      "yes\n",
      "no\n"
     ]
    }
   ],
   "source": [
    "# check if item is in dictionary\n",
    "\n",
    "if \"name\" in dict_1:\n",
    "    print(\"yes\")\n",
    "else:\n",
    "    print(\"no\")\n",
    "\n",
    "if \"B\" in dict_1:\n",
    "    print(\"yes\")\n",
    "else:\n",
    "    print(\"no\")"
   ]
  },
  {
   "cell_type": "code",
   "execution_count": null,
   "metadata": {},
   "outputs": [],
   "source": []
  }
 ],
 "metadata": {
  "kernelspec": {
   "display_name": "Python 3",
   "language": "python",
   "name": "python3"
  },
  "language_info": {
   "codemirror_mode": {
    "name": "ipython",
    "version": 3
   },
   "file_extension": ".py",
   "mimetype": "text/x-python",
   "name": "python",
   "nbconvert_exporter": "python",
   "pygments_lexer": "ipython3",
   "version": "3.12.3"
  }
 },
 "nbformat": 4,
 "nbformat_minor": 2
}
