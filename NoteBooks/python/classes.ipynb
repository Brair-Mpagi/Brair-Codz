{
 "cells": [
  {
   "cell_type": "code",
   "execution_count": 1,
   "metadata": {},
   "outputs": [
    {
     "name": "stdout",
     "output_type": "stream",
     "text": [
      "31\n",
      "DCS\n"
     ]
    }
   ],
   "source": [
    "class ComputerScience:\n",
    "    def __init__(self, name ,code ,age):\n",
    "        self.name = name\n",
    "        self.code = code\n",
    "        self.age = age\n",
    "p1 = ComputerScience(\"John\", \"BCS\" ,21)\n",
    "p2 = ComputerScience(\"Tonny\", \"DCS\" ,18)\n",
    "p3 = ComputerScience(\"Haaland\", \"BIT\" ,31)\n",
    "p4 = ComputerScience(\"Saka\", \"BCS\" ,22)\n",
    "p5 = ComputerScience(\"Nketia\", \"DCS\" ,23)\n",
    "p6 = ComputerScience(\"Brair\", \"BCS\",21)\n",
    "\n",
    "print(p3.age)\n",
    "print(p5.code)\n",
    "\n",
    "    "
   ]
  },
  {
   "cell_type": "code",
   "execution_count": 2,
   "metadata": {},
   "outputs": [
    {
     "name": "stdout",
     "output_type": "stream",
     "text": [
      "James_Bond\n",
      "BSSE\n"
     ]
    }
   ],
   "source": [
    "class SoftwareEngineer:\n",
    "    def __init__(self,name,age,code):\n",
    "        self.name = name\n",
    "        self.code = code\n",
    "        self.age = age\n",
    "\n",
    "Student_1 = SoftwareEngineer(name=\"James_Bond\", age=21,code=\"BSSE\")\n",
    "\n",
    "print(Student_1.name)\n",
    "print(Student_1.code)"
   ]
  },
  {
   "cell_type": "code",
   "execution_count": 2,
   "metadata": {},
   "outputs": [
    {
     "name": "stdout",
     "output_type": "stream",
     "text": [
      "Brair\n"
     ]
    }
   ],
   "source": [
    "\n",
    "class Bunooti:\n",
    "    def __init__(self, name, age) -> None:\n",
    "        self.name= name\n",
    "        self.age= age\n",
    "    \n",
    "x = Bunooti(\"Brair\", 39)\n",
    "print(x.name)\n"
   ]
  },
  {
   "cell_type": "code",
   "execution_count": null,
   "metadata": {},
   "outputs": [],
   "source": [
    "class fosti:\n",
    "    def __init__(self, name,age) -> None:\n",
    "        self.name = name\n",
    "        self.age = age\n",
    "        \n",
    "student = fosti()\n",
    "\n",
    "student = (\"bunoooti\", 21)\n",
    "\n"
   ]
  }
 ],
 "metadata": {
  "kernelspec": {
   "display_name": "Python 3",
   "language": "python",
   "name": "python3"
  },
  "language_info": {
   "codemirror_mode": {
    "name": "ipython",
    "version": 3
   },
   "file_extension": ".py",
   "mimetype": "text/x-python",
   "name": "python",
   "nbconvert_exporter": "python",
   "pygments_lexer": "ipython3",
   "version": "3.11.9"
  }
 },
 "nbformat": 4,
 "nbformat_minor": 2
}
